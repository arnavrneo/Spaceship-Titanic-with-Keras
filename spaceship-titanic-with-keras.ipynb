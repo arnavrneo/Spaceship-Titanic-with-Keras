{
 "cells": [
  {
   "cell_type": "markdown",
   "id": "381ee1c4",
   "metadata": {
    "papermill": {
     "duration": 0.052211,
     "end_time": "2022-04-21T06:19:09.984055",
     "exception": false,
     "start_time": "2022-04-21T06:19:09.931844",
     "status": "completed"
    },
    "tags": []
   },
   "source": [
    "<h1 align='center'> Spaceship Titanic with Tensorflow </h1>"
   ]
  },
  {
   "cell_type": "markdown",
   "id": "8792ac79",
   "metadata": {
    "papermill": {
     "duration": 0.053722,
     "end_time": "2022-04-21T06:19:10.088824",
     "exception": false,
     "start_time": "2022-04-21T06:19:10.035102",
     "status": "completed"
    },
    "tags": []
   },
   "source": [
    "<center><img src='https://pyimagesearch.com/wp-content/uploads/2019/10/keras_vs_tfdotkeras_header.png'></img></center>"
   ]
  },
  {
   "cell_type": "markdown",
   "id": "c628ffa6",
   "metadata": {
    "papermill": {
     "duration": 0.051217,
     "end_time": "2022-04-21T06:19:10.192713",
     "exception": false,
     "start_time": "2022-04-21T06:19:10.141496",
     "status": "completed"
    },
    "tags": []
   },
   "source": [
    "<p style='font-size: 17px'>Thank you for reading this notebook!</p>\n",
    "\n",
    "<p style='font-size: 17px'>This notebook aims to solve the <strong>Spaceship Titanic</strong> mystery with the help of <strong>Neural Networks</strong> using <strong>Tensorflow-keras.</strong></p>\n",
    "    \n",
    "<p style='font-size: 17px'>For detailed EDA with LightGBM, check out this notebook: <a style='font-weight: 900'>https://www.kaggle.com/code/arnavr10880/spaceshiptitanic-eda-fe-optimization</a></p>\n",
    "\n",
    "<hr>"
   ]
  },
  {
   "cell_type": "markdown",
   "id": "01a2fd9e",
   "metadata": {
    "papermill": {
     "duration": 0.050201,
     "end_time": "2022-04-21T06:19:10.293289",
     "exception": false,
     "start_time": "2022-04-21T06:19:10.243088",
     "status": "completed"
    },
    "tags": []
   },
   "source": [
    "# Notebook contents\n",
    "\n",
    "- <a href='#libraries'> Required Libraries </a>\n",
    "- <a href='#dataset'> Reading the dataset </a>\n",
    "- <a href='#pre'> Pre-processing the data </a>\n",
    "- <a href='#engg'> Feature Engineering </a>\n",
    "- <a href='#prepare'> Preparing for training </a>\n",
    "- <a href='#nn'> Neural Network Architecture (Model) </a>\n",
    "- <a href='#tuning'> Model Training (with hyperparameter tuning) </a>\n",
    "- <a href='#viz'> Visualizing evaluation </a>\n",
    "    - <a href='#accuracy'> Plotting Accuracy & Loss Plots </a>\n",
    "    - <a href='#confusion'> Confusion Matrix </a>\n",
    "- <a href='#final'> Performing final predictions </a>\n",
    "\n",
    "<br/><br/>\n",
    "<hr>"
   ]
  },
  {
   "cell_type": "markdown",
   "id": "95276115",
   "metadata": {
    "papermill": {
     "duration": 0.0508,
     "end_time": "2022-04-21T06:19:10.395536",
     "exception": false,
     "start_time": "2022-04-21T06:19:10.344736",
     "status": "completed"
    },
    "tags": []
   },
   "source": [
    "<a id='libraries'></a>\n",
    "# Required Libraries"
   ]
  },
  {
   "cell_type": "code",
   "execution_count": 1,
   "id": "678f2426",
   "metadata": {
    "execution": {
     "iopub.execute_input": "2022-04-21T06:19:10.502885Z",
     "iopub.status.busy": "2022-04-21T06:19:10.501465Z",
     "iopub.status.idle": "2022-04-21T06:19:10.509633Z",
     "shell.execute_reply": "2022-04-21T06:19:10.508510Z"
    },
    "papermill": {
     "duration": 0.066659,
     "end_time": "2022-04-21T06:19:10.513416",
     "exception": false,
     "start_time": "2022-04-21T06:19:10.446757",
     "status": "completed"
    },
    "tags": []
   },
   "outputs": [],
   "source": [
    "# !pip install keras-tuner --upgrade"
   ]
  },
  {
   "cell_type": "code",
   "execution_count": 2,
   "id": "f5af280f",
   "metadata": {
    "execution": {
     "iopub.execute_input": "2022-04-21T06:19:10.623076Z",
     "iopub.status.busy": "2022-04-21T06:19:10.622749Z",
     "iopub.status.idle": "2022-04-21T06:19:18.233669Z",
     "shell.execute_reply": "2022-04-21T06:19:18.232855Z"
    },
    "papermill": {
     "duration": 7.668549,
     "end_time": "2022-04-21T06:19:18.236410",
     "exception": false,
     "start_time": "2022-04-21T06:19:10.567861",
     "status": "completed"
    },
    "tags": []
   },
   "outputs": [],
   "source": [
    "# Keras & Tensorflow libraries\n",
    "import tensorflow as tf\n",
    "from tensorflow import keras\n",
    "from tensorflow.keras.models import Sequential\n",
    "from tensorflow.keras.layers import Activation, Dense\n",
    "from tensorflow.keras.optimizers import Adam\n",
    "from tensorflow.keras.metrics import categorical_crossentropy\n",
    "import keras_tuner as kt\n",
    "\n",
    "import matplotlib.pyplot as plt\n",
    "import pandas as pd\n",
    "import numpy as np\n",
    "\n",
    "# sklearn libraries\n",
    "from sklearn.impute import SimpleImputer\n",
    "from sklearn.model_selection import train_test_split\n",
    "from sklearn.metrics import accuracy_score, confusion_matrix, ConfusionMatrixDisplay\n",
    "from sklearn.preprocessing import LabelEncoder, Normalizer"
   ]
  },
  {
   "cell_type": "markdown",
   "id": "b4a7d88c",
   "metadata": {
    "papermill": {
     "duration": 0.076411,
     "end_time": "2022-04-21T06:19:18.374586",
     "exception": false,
     "start_time": "2022-04-21T06:19:18.298175",
     "status": "completed"
    },
    "tags": []
   },
   "source": [
    "<a id='dataset'></a>\n",
    "# Reading the dataset"
   ]
  },
  {
   "cell_type": "code",
   "execution_count": 3,
   "id": "abdfa6d5",
   "metadata": {
    "execution": {
     "iopub.execute_input": "2022-04-21T06:19:18.486618Z",
     "iopub.status.busy": "2022-04-21T06:19:18.486337Z",
     "iopub.status.idle": "2022-04-21T06:19:18.574189Z",
     "shell.execute_reply": "2022-04-21T06:19:18.572949Z"
    },
    "papermill": {
     "duration": 0.144783,
     "end_time": "2022-04-21T06:19:18.577059",
     "exception": false,
     "start_time": "2022-04-21T06:19:18.432276",
     "status": "completed"
    },
    "tags": []
   },
   "outputs": [],
   "source": [
    "train = pd.read_csv('../input/spaceship-titanic/train.csv')\n",
    "test = pd.read_csv('../input/spaceship-titanic/test.csv')"
   ]
  },
  {
   "cell_type": "markdown",
   "id": "854351a7",
   "metadata": {
    "papermill": {
     "duration": 0.054898,
     "end_time": "2022-04-21T06:19:18.684475",
     "exception": false,
     "start_time": "2022-04-21T06:19:18.629577",
     "status": "completed"
    },
    "tags": []
   },
   "source": [
    "<a id='pre'></a>\n",
    "# Pre-processing the data"
   ]
  },
  {
   "cell_type": "markdown",
   "id": "67cc0bc0",
   "metadata": {
    "papermill": {
     "duration": 0.052493,
     "end_time": "2022-04-21T06:19:18.791480",
     "exception": false,
     "start_time": "2022-04-21T06:19:18.738987",
     "status": "completed"
    },
    "tags": []
   },
   "source": [
    "<p style='font-size: 17px'>Here, we'll do some pre-processing which involves filling the missing values.</p>"
   ]
  },
  {
   "cell_type": "code",
   "execution_count": 4,
   "id": "0c101114",
   "metadata": {
    "execution": {
     "iopub.execute_input": "2022-04-21T06:19:18.901771Z",
     "iopub.status.busy": "2022-04-21T06:19:18.901463Z",
     "iopub.status.idle": "2022-04-21T06:19:18.929054Z",
     "shell.execute_reply": "2022-04-21T06:19:18.928282Z"
    },
    "papermill": {
     "duration": 0.084038,
     "end_time": "2022-04-21T06:19:18.931643",
     "exception": false,
     "start_time": "2022-04-21T06:19:18.847605",
     "status": "completed"
    },
    "tags": []
   },
   "outputs": [],
   "source": [
    "imputer_cols = [\"Age\", \"FoodCourt\", \"ShoppingMall\", \"Spa\", \"VRDeck\" ,\"RoomService\"]\n",
    "imputer = SimpleImputer()\n",
    "imputer.fit(train[imputer_cols])\n",
    "train[imputer_cols] = imputer.transform(train[imputer_cols])\n",
    "test[imputer_cols] = imputer.transform(test[imputer_cols])"
   ]
  },
  {
   "cell_type": "code",
   "execution_count": 5,
   "id": "ceebd23d",
   "metadata": {
    "execution": {
     "iopub.execute_input": "2022-04-21T06:19:19.039737Z",
     "iopub.status.busy": "2022-04-21T06:19:19.039445Z",
     "iopub.status.idle": "2022-04-21T06:19:19.064675Z",
     "shell.execute_reply": "2022-04-21T06:19:19.063578Z"
    },
    "papermill": {
     "duration": 0.082934,
     "end_time": "2022-04-21T06:19:19.067573",
     "exception": false,
     "start_time": "2022-04-21T06:19:18.984639",
     "status": "completed"
    },
    "tags": []
   },
   "outputs": [],
   "source": [
    "train['HomePlanet'].fillna('Earth', inplace=True)\n",
    "train['CryoSleep'].fillna('False', inplace=True)\n",
    "train['Cabin'].fillna('None', inplace=True)\n",
    "train['Destination'].fillna('TRAPPIST-1e', inplace=True)\n",
    "train['VIP'].fillna('False', inplace=True)\n",
    "\n",
    "test['HomePlanet'].fillna('Earth', inplace=True)\n",
    "test['CryoSleep'].fillna('False', inplace=True)\n",
    "test['Cabin'].fillna('G/109/P', inplace=True)\n",
    "test['Destination'].fillna('TRAPPIST-1e', inplace=True)\n",
    "test['VIP'].fillna('False', inplace=True)\n",
    "\n",
    "train['Name'].fillna('no name', inplace=True)\n",
    "test['Name'].fillna('no name', inplace=True)"
   ]
  },
  {
   "cell_type": "markdown",
   "id": "781bab1e",
   "metadata": {
    "papermill": {
     "duration": 0.053053,
     "end_time": "2022-04-21T06:19:19.173473",
     "exception": false,
     "start_time": "2022-04-21T06:19:19.120420",
     "status": "completed"
    },
    "tags": []
   },
   "source": [
    "<a id='engg'></a>\n",
    "# Feature Engineering"
   ]
  },
  {
   "cell_type": "markdown",
   "id": "c7714aa1",
   "metadata": {
    "papermill": {
     "duration": 0.052458,
     "end_time": "2022-04-21T06:19:19.278191",
     "exception": false,
     "start_time": "2022-04-21T06:19:19.225733",
     "status": "completed"
    },
    "tags": []
   },
   "source": [
    "<p style='font-size: 17px'>We'll be doing some feature engineering by creating new features out of the others.</p>"
   ]
  },
  {
   "cell_type": "code",
   "execution_count": 6,
   "id": "0e68400f",
   "metadata": {
    "execution": {
     "iopub.execute_input": "2022-04-21T06:19:19.384574Z",
     "iopub.status.busy": "2022-04-21T06:19:19.383942Z",
     "iopub.status.idle": "2022-04-21T06:19:19.442689Z",
     "shell.execute_reply": "2022-04-21T06:19:19.442066Z"
    },
    "papermill": {
     "duration": 0.11465,
     "end_time": "2022-04-21T06:19:19.445029",
     "exception": false,
     "start_time": "2022-04-21T06:19:19.330379",
     "status": "completed"
    },
    "tags": []
   },
   "outputs": [],
   "source": [
    "train['Deck'] = train['Cabin'].apply(lambda x:str(x)[:1])\n",
    "train['Side'] = train['Cabin'].apply(lambda x:str(x)[-1:])\n",
    "test['Deck'] = train['Cabin'].apply(lambda x:str(x)[:1])\n",
    "test['Side'] = train['Cabin'].apply(lambda x:str(x)[-1:])\n",
    "\n",
    "train['PGroup'] = train['PassengerId'].apply(lambda x: x.split('_')[0])\n",
    "train['PNumber'] = train['PassengerId'].apply(lambda x: x.split('_')[1])\n",
    "test['PGroup'] = test['PassengerId'].apply(lambda x: x.split('_')[0])\n",
    "test['PNumber'] = test['PassengerId'].apply(lambda x: x.split('_')[1])\n",
    "\n",
    "train['LastName'] = train['Name'].apply(lambda x:x.split(\" \")[1])\n",
    "test['LastName'] = train['Name'].apply(lambda x:x.split(\" \")[1])\n",
    "\n",
    "train['AllServices'] = train['RoomService'] + train['FoodCourt'] + train['ShoppingMall'] + train['Spa'] + train['VRDeck']\n",
    "test['AllServices'] = test['RoomService'] + test['FoodCourt'] + test['ShoppingMall'] + test['Spa'] + test['VRDeck']"
   ]
  },
  {
   "cell_type": "markdown",
   "id": "a3e4a5f7",
   "metadata": {
    "papermill": {
     "duration": 0.05001,
     "end_time": "2022-04-21T06:19:19.545108",
     "exception": false,
     "start_time": "2022-04-21T06:19:19.495098",
     "status": "completed"
    },
    "tags": []
   },
   "source": [
    "<p style='font-size: 17px'>As machine learning models only love numbers, we'll encode the categorical columns using <strong>Label Encoder</strong>.</p>"
   ]
  },
  {
   "cell_type": "code",
   "execution_count": 7,
   "id": "8ef3a13a",
   "metadata": {
    "execution": {
     "iopub.execute_input": "2022-04-21T06:19:19.647328Z",
     "iopub.status.busy": "2022-04-21T06:19:19.646774Z",
     "iopub.status.idle": "2022-04-21T06:19:19.740166Z",
     "shell.execute_reply": "2022-04-21T06:19:19.739425Z"
    },
    "papermill": {
     "duration": 0.14757,
     "end_time": "2022-04-21T06:19:19.742934",
     "exception": false,
     "start_time": "2022-04-21T06:19:19.595364",
     "status": "completed"
    },
    "tags": []
   },
   "outputs": [],
   "source": [
    "label_cols = [\"HomePlanet\", \"CryoSleep\", \"Destination\" ,\"VIP\", \"Deck\", \"Side\", \"LastName\", \"PGroup\", \"PNumber\"]\n",
    "\n",
    "for i in label_cols:\n",
    "    train[i] = train[i].astype(str)\n",
    "    test[i] = test[i].astype(str)\n",
    "    train[i] = LabelEncoder().fit_transform(train[i])\n",
    "    test[i] = LabelEncoder().fit_transform(test[i])"
   ]
  },
  {
   "cell_type": "code",
   "execution_count": 8,
   "id": "253435cb",
   "metadata": {
    "execution": {
     "iopub.execute_input": "2022-04-21T06:19:19.847506Z",
     "iopub.status.busy": "2022-04-21T06:19:19.847204Z",
     "iopub.status.idle": "2022-04-21T06:19:19.891054Z",
     "shell.execute_reply": "2022-04-21T06:19:19.889781Z"
    },
    "papermill": {
     "duration": 0.100478,
     "end_time": "2022-04-21T06:19:19.893984",
     "exception": false,
     "start_time": "2022-04-21T06:19:19.793506",
     "status": "completed"
    },
    "tags": []
   },
   "outputs": [
    {
     "data": {
      "text/html": [
       "<div>\n",
       "<style scoped>\n",
       "    .dataframe tbody tr th:only-of-type {\n",
       "        vertical-align: middle;\n",
       "    }\n",
       "\n",
       "    .dataframe tbody tr th {\n",
       "        vertical-align: top;\n",
       "    }\n",
       "\n",
       "    .dataframe thead th {\n",
       "        text-align: right;\n",
       "    }\n",
       "</style>\n",
       "<table border=\"1\" class=\"dataframe\">\n",
       "  <thead>\n",
       "    <tr style=\"text-align: right;\">\n",
       "      <th></th>\n",
       "      <th>PassengerId</th>\n",
       "      <th>HomePlanet</th>\n",
       "      <th>CryoSleep</th>\n",
       "      <th>Cabin</th>\n",
       "      <th>Destination</th>\n",
       "      <th>Age</th>\n",
       "      <th>VIP</th>\n",
       "      <th>RoomService</th>\n",
       "      <th>FoodCourt</th>\n",
       "      <th>ShoppingMall</th>\n",
       "      <th>Spa</th>\n",
       "      <th>VRDeck</th>\n",
       "      <th>Name</th>\n",
       "      <th>Transported</th>\n",
       "      <th>Deck</th>\n",
       "      <th>Side</th>\n",
       "      <th>PGroup</th>\n",
       "      <th>PNumber</th>\n",
       "      <th>LastName</th>\n",
       "      <th>AllServices</th>\n",
       "    </tr>\n",
       "  </thead>\n",
       "  <tbody>\n",
       "    <tr>\n",
       "      <th>0</th>\n",
       "      <td>0001_01</td>\n",
       "      <td>1</td>\n",
       "      <td>0</td>\n",
       "      <td>B/0/P</td>\n",
       "      <td>2</td>\n",
       "      <td>39.0</td>\n",
       "      <td>0</td>\n",
       "      <td>0.0</td>\n",
       "      <td>0.0</td>\n",
       "      <td>0.0</td>\n",
       "      <td>0.0</td>\n",
       "      <td>0.0</td>\n",
       "      <td>Maham Ofracculy</td>\n",
       "      <td>0</td>\n",
       "      <td>1</td>\n",
       "      <td>0</td>\n",
       "      <td>0</td>\n",
       "      <td>0</td>\n",
       "      <td>1431</td>\n",
       "      <td>0.0</td>\n",
       "    </tr>\n",
       "    <tr>\n",
       "      <th>1</th>\n",
       "      <td>0002_01</td>\n",
       "      <td>0</td>\n",
       "      <td>0</td>\n",
       "      <td>F/0/S</td>\n",
       "      <td>2</td>\n",
       "      <td>24.0</td>\n",
       "      <td>0</td>\n",
       "      <td>109.0</td>\n",
       "      <td>9.0</td>\n",
       "      <td>25.0</td>\n",
       "      <td>549.0</td>\n",
       "      <td>44.0</td>\n",
       "      <td>Juanna Vines</td>\n",
       "      <td>1</td>\n",
       "      <td>5</td>\n",
       "      <td>1</td>\n",
       "      <td>1</td>\n",
       "      <td>0</td>\n",
       "      <td>2109</td>\n",
       "      <td>736.0</td>\n",
       "    </tr>\n",
       "    <tr>\n",
       "      <th>2</th>\n",
       "      <td>0003_01</td>\n",
       "      <td>1</td>\n",
       "      <td>0</td>\n",
       "      <td>A/0/S</td>\n",
       "      <td>2</td>\n",
       "      <td>58.0</td>\n",
       "      <td>1</td>\n",
       "      <td>43.0</td>\n",
       "      <td>3576.0</td>\n",
       "      <td>0.0</td>\n",
       "      <td>6715.0</td>\n",
       "      <td>49.0</td>\n",
       "      <td>Altark Susent</td>\n",
       "      <td>0</td>\n",
       "      <td>0</td>\n",
       "      <td>1</td>\n",
       "      <td>2</td>\n",
       "      <td>0</td>\n",
       "      <td>1990</td>\n",
       "      <td>10383.0</td>\n",
       "    </tr>\n",
       "    <tr>\n",
       "      <th>3</th>\n",
       "      <td>0003_02</td>\n",
       "      <td>1</td>\n",
       "      <td>0</td>\n",
       "      <td>A/0/S</td>\n",
       "      <td>2</td>\n",
       "      <td>33.0</td>\n",
       "      <td>0</td>\n",
       "      <td>0.0</td>\n",
       "      <td>1283.0</td>\n",
       "      <td>371.0</td>\n",
       "      <td>3329.0</td>\n",
       "      <td>193.0</td>\n",
       "      <td>Solam Susent</td>\n",
       "      <td>0</td>\n",
       "      <td>0</td>\n",
       "      <td>1</td>\n",
       "      <td>2</td>\n",
       "      <td>1</td>\n",
       "      <td>1990</td>\n",
       "      <td>5176.0</td>\n",
       "    </tr>\n",
       "    <tr>\n",
       "      <th>4</th>\n",
       "      <td>0004_01</td>\n",
       "      <td>0</td>\n",
       "      <td>0</td>\n",
       "      <td>F/1/S</td>\n",
       "      <td>2</td>\n",
       "      <td>16.0</td>\n",
       "      <td>0</td>\n",
       "      <td>303.0</td>\n",
       "      <td>70.0</td>\n",
       "      <td>151.0</td>\n",
       "      <td>565.0</td>\n",
       "      <td>2.0</td>\n",
       "      <td>Willy Santantines</td>\n",
       "      <td>1</td>\n",
       "      <td>5</td>\n",
       "      <td>1</td>\n",
       "      <td>3</td>\n",
       "      <td>0</td>\n",
       "      <td>1778</td>\n",
       "      <td>1091.0</td>\n",
       "    </tr>\n",
       "    <tr>\n",
       "      <th>...</th>\n",
       "      <td>...</td>\n",
       "      <td>...</td>\n",
       "      <td>...</td>\n",
       "      <td>...</td>\n",
       "      <td>...</td>\n",
       "      <td>...</td>\n",
       "      <td>...</td>\n",
       "      <td>...</td>\n",
       "      <td>...</td>\n",
       "      <td>...</td>\n",
       "      <td>...</td>\n",
       "      <td>...</td>\n",
       "      <td>...</td>\n",
       "      <td>...</td>\n",
       "      <td>...</td>\n",
       "      <td>...</td>\n",
       "      <td>...</td>\n",
       "      <td>...</td>\n",
       "      <td>...</td>\n",
       "      <td>...</td>\n",
       "    </tr>\n",
       "    <tr>\n",
       "      <th>8688</th>\n",
       "      <td>9276_01</td>\n",
       "      <td>1</td>\n",
       "      <td>0</td>\n",
       "      <td>A/98/P</td>\n",
       "      <td>0</td>\n",
       "      <td>41.0</td>\n",
       "      <td>1</td>\n",
       "      <td>0.0</td>\n",
       "      <td>6819.0</td>\n",
       "      <td>0.0</td>\n",
       "      <td>1643.0</td>\n",
       "      <td>74.0</td>\n",
       "      <td>Gravior Noxnuther</td>\n",
       "      <td>0</td>\n",
       "      <td>0</td>\n",
       "      <td>0</td>\n",
       "      <td>6213</td>\n",
       "      <td>0</td>\n",
       "      <td>1416</td>\n",
       "      <td>8536.0</td>\n",
       "    </tr>\n",
       "    <tr>\n",
       "      <th>8689</th>\n",
       "      <td>9278_01</td>\n",
       "      <td>0</td>\n",
       "      <td>1</td>\n",
       "      <td>G/1499/S</td>\n",
       "      <td>1</td>\n",
       "      <td>18.0</td>\n",
       "      <td>0</td>\n",
       "      <td>0.0</td>\n",
       "      <td>0.0</td>\n",
       "      <td>0.0</td>\n",
       "      <td>0.0</td>\n",
       "      <td>0.0</td>\n",
       "      <td>Kurta Mondalley</td>\n",
       "      <td>0</td>\n",
       "      <td>6</td>\n",
       "      <td>1</td>\n",
       "      <td>6214</td>\n",
       "      <td>0</td>\n",
       "      <td>1341</td>\n",
       "      <td>0.0</td>\n",
       "    </tr>\n",
       "    <tr>\n",
       "      <th>8690</th>\n",
       "      <td>9279_01</td>\n",
       "      <td>0</td>\n",
       "      <td>0</td>\n",
       "      <td>G/1500/S</td>\n",
       "      <td>2</td>\n",
       "      <td>26.0</td>\n",
       "      <td>0</td>\n",
       "      <td>0.0</td>\n",
       "      <td>0.0</td>\n",
       "      <td>1872.0</td>\n",
       "      <td>1.0</td>\n",
       "      <td>0.0</td>\n",
       "      <td>Fayey Connon</td>\n",
       "      <td>1</td>\n",
       "      <td>6</td>\n",
       "      <td>1</td>\n",
       "      <td>6215</td>\n",
       "      <td>0</td>\n",
       "      <td>470</td>\n",
       "      <td>1873.0</td>\n",
       "    </tr>\n",
       "    <tr>\n",
       "      <th>8691</th>\n",
       "      <td>9280_01</td>\n",
       "      <td>1</td>\n",
       "      <td>0</td>\n",
       "      <td>E/608/S</td>\n",
       "      <td>0</td>\n",
       "      <td>32.0</td>\n",
       "      <td>0</td>\n",
       "      <td>0.0</td>\n",
       "      <td>1049.0</td>\n",
       "      <td>0.0</td>\n",
       "      <td>353.0</td>\n",
       "      <td>3235.0</td>\n",
       "      <td>Celeon Hontichre</td>\n",
       "      <td>0</td>\n",
       "      <td>4</td>\n",
       "      <td>1</td>\n",
       "      <td>6216</td>\n",
       "      <td>0</td>\n",
       "      <td>996</td>\n",
       "      <td>4637.0</td>\n",
       "    </tr>\n",
       "    <tr>\n",
       "      <th>8692</th>\n",
       "      <td>9280_02</td>\n",
       "      <td>1</td>\n",
       "      <td>0</td>\n",
       "      <td>E/608/S</td>\n",
       "      <td>2</td>\n",
       "      <td>44.0</td>\n",
       "      <td>0</td>\n",
       "      <td>126.0</td>\n",
       "      <td>4688.0</td>\n",
       "      <td>0.0</td>\n",
       "      <td>0.0</td>\n",
       "      <td>12.0</td>\n",
       "      <td>Propsh Hontichre</td>\n",
       "      <td>1</td>\n",
       "      <td>4</td>\n",
       "      <td>1</td>\n",
       "      <td>6216</td>\n",
       "      <td>1</td>\n",
       "      <td>996</td>\n",
       "      <td>4826.0</td>\n",
       "    </tr>\n",
       "  </tbody>\n",
       "</table>\n",
       "<p>8693 rows × 20 columns</p>\n",
       "</div>"
      ],
      "text/plain": [
       "     PassengerId  HomePlanet  CryoSleep     Cabin  Destination   Age  VIP  \\\n",
       "0        0001_01           1          0     B/0/P            2  39.0    0   \n",
       "1        0002_01           0          0     F/0/S            2  24.0    0   \n",
       "2        0003_01           1          0     A/0/S            2  58.0    1   \n",
       "3        0003_02           1          0     A/0/S            2  33.0    0   \n",
       "4        0004_01           0          0     F/1/S            2  16.0    0   \n",
       "...          ...         ...        ...       ...          ...   ...  ...   \n",
       "8688     9276_01           1          0    A/98/P            0  41.0    1   \n",
       "8689     9278_01           0          1  G/1499/S            1  18.0    0   \n",
       "8690     9279_01           0          0  G/1500/S            2  26.0    0   \n",
       "8691     9280_01           1          0   E/608/S            0  32.0    0   \n",
       "8692     9280_02           1          0   E/608/S            2  44.0    0   \n",
       "\n",
       "      RoomService  FoodCourt  ShoppingMall     Spa  VRDeck               Name  \\\n",
       "0             0.0        0.0           0.0     0.0     0.0    Maham Ofracculy   \n",
       "1           109.0        9.0          25.0   549.0    44.0       Juanna Vines   \n",
       "2            43.0     3576.0           0.0  6715.0    49.0      Altark Susent   \n",
       "3             0.0     1283.0         371.0  3329.0   193.0       Solam Susent   \n",
       "4           303.0       70.0         151.0   565.0     2.0  Willy Santantines   \n",
       "...           ...        ...           ...     ...     ...                ...   \n",
       "8688          0.0     6819.0           0.0  1643.0    74.0  Gravior Noxnuther   \n",
       "8689          0.0        0.0           0.0     0.0     0.0    Kurta Mondalley   \n",
       "8690          0.0        0.0        1872.0     1.0     0.0       Fayey Connon   \n",
       "8691          0.0     1049.0           0.0   353.0  3235.0   Celeon Hontichre   \n",
       "8692        126.0     4688.0           0.0     0.0    12.0   Propsh Hontichre   \n",
       "\n",
       "      Transported  Deck  Side  PGroup  PNumber  LastName  AllServices  \n",
       "0               0     1     0       0        0      1431          0.0  \n",
       "1               1     5     1       1        0      2109        736.0  \n",
       "2               0     0     1       2        0      1990      10383.0  \n",
       "3               0     0     1       2        1      1990       5176.0  \n",
       "4               1     5     1       3        0      1778       1091.0  \n",
       "...           ...   ...   ...     ...      ...       ...          ...  \n",
       "8688            0     0     0    6213        0      1416       8536.0  \n",
       "8689            0     6     1    6214        0      1341          0.0  \n",
       "8690            1     6     1    6215        0       470       1873.0  \n",
       "8691            0     4     1    6216        0       996       4637.0  \n",
       "8692            1     4     1    6216        1       996       4826.0  \n",
       "\n",
       "[8693 rows x 20 columns]"
      ]
     },
     "execution_count": 8,
     "metadata": {},
     "output_type": "execute_result"
    }
   ],
   "source": [
    "train['Transported'] = LabelEncoder().fit_transform(train['Transported'])\n",
    "train"
   ]
  },
  {
   "cell_type": "markdown",
   "id": "c181f671",
   "metadata": {
    "papermill": {
     "duration": 0.051815,
     "end_time": "2022-04-21T06:19:19.998530",
     "exception": false,
     "start_time": "2022-04-21T06:19:19.946715",
     "status": "completed"
    },
    "tags": []
   },
   "source": [
    "<a id='prepare'></a>\n",
    "# Preparing for training"
   ]
  },
  {
   "cell_type": "markdown",
   "id": "bd2db8ed",
   "metadata": {
    "papermill": {
     "duration": 0.059051,
     "end_time": "2022-04-21T06:19:20.108750",
     "exception": false,
     "start_time": "2022-04-21T06:19:20.049699",
     "status": "completed"
    },
    "tags": []
   },
   "source": [
    "<p style='font-size: 17px'>We'll drop following columns as they are no longer needed now as we have made features out of them.</p>"
   ]
  },
  {
   "cell_type": "code",
   "execution_count": 9,
   "id": "d8e64345",
   "metadata": {
    "execution": {
     "iopub.execute_input": "2022-04-21T06:19:20.231722Z",
     "iopub.status.busy": "2022-04-21T06:19:20.231459Z",
     "iopub.status.idle": "2022-04-21T06:19:20.235974Z",
     "shell.execute_reply": "2022-04-21T06:19:20.234846Z"
    },
    "papermill": {
     "duration": 0.065833,
     "end_time": "2022-04-21T06:19:20.238357",
     "exception": false,
     "start_time": "2022-04-21T06:19:20.172524",
     "status": "completed"
    },
    "tags": []
   },
   "outputs": [],
   "source": [
    "cols_to_drop = ['Name', 'PassengerId', 'Cabin']"
   ]
  },
  {
   "cell_type": "code",
   "execution_count": 10,
   "id": "bb27fde3",
   "metadata": {
    "execution": {
     "iopub.execute_input": "2022-04-21T06:19:20.349593Z",
     "iopub.status.busy": "2022-04-21T06:19:20.349314Z",
     "iopub.status.idle": "2022-04-21T06:19:20.358941Z",
     "shell.execute_reply": "2022-04-21T06:19:20.358185Z"
    },
    "papermill": {
     "duration": 0.06671,
     "end_time": "2022-04-21T06:19:20.361251",
     "exception": false,
     "start_time": "2022-04-21T06:19:20.294541",
     "status": "completed"
    },
    "tags": []
   },
   "outputs": [],
   "source": [
    "y = train['Transported']\n",
    "train.drop(['Name', 'PassengerId', 'Cabin', 'Transported'], axis=1, inplace=True)"
   ]
  },
  {
   "cell_type": "markdown",
   "id": "b274516d",
   "metadata": {
    "papermill": {
     "duration": 0.051683,
     "end_time": "2022-04-21T06:19:20.465092",
     "exception": false,
     "start_time": "2022-04-21T06:19:20.413409",
     "status": "completed"
    },
    "tags": []
   },
   "source": [
    "<p class=\"alert alert-block alert-info\" style='font-size: 17px'> 📌 <strong>Normalizing</strong> or scaling is one of the most important step in any machine learning process. It helps the values to get scaled at the same level for better prediction efficiency. Here, we'll use Normalizer to normalize the data. </p>"
   ]
  },
  {
   "cell_type": "code",
   "execution_count": 11,
   "id": "8f3c3f10",
   "metadata": {
    "execution": {
     "iopub.execute_input": "2022-04-21T06:19:20.570815Z",
     "iopub.status.busy": "2022-04-21T06:19:20.570343Z",
     "iopub.status.idle": "2022-04-21T06:19:20.581987Z",
     "shell.execute_reply": "2022-04-21T06:19:20.581244Z"
    },
    "papermill": {
     "duration": 0.067588,
     "end_time": "2022-04-21T06:19:20.584450",
     "exception": false,
     "start_time": "2022-04-21T06:19:20.516862",
     "status": "completed"
    },
    "tags": []
   },
   "outputs": [],
   "source": [
    "transformer = Normalizer().fit(train) \n",
    "transformer\n",
    "train=transformer.transform(train)"
   ]
  },
  {
   "cell_type": "code",
   "execution_count": 12,
   "id": "f298c06e",
   "metadata": {
    "execution": {
     "iopub.execute_input": "2022-04-21T06:19:20.693444Z",
     "iopub.status.busy": "2022-04-21T06:19:20.692740Z",
     "iopub.status.idle": "2022-04-21T06:19:20.699266Z",
     "shell.execute_reply": "2022-04-21T06:19:20.698633Z"
    },
    "papermill": {
     "duration": 0.065885,
     "end_time": "2022-04-21T06:19:20.701968",
     "exception": false,
     "start_time": "2022-04-21T06:19:20.636083",
     "status": "completed"
    },
    "tags": []
   },
   "outputs": [
    {
     "data": {
      "text/plain": [
       "array([[6.98551616e-04, 0.00000000e+00, 1.39710323e-03, ...,\n",
       "        0.00000000e+00, 9.99627362e-01, 0.00000000e+00],\n",
       "       [0.00000000e+00, 0.00000000e+00, 8.68244324e-04, ...,\n",
       "        0.00000000e+00, 9.15563640e-01, 3.19513911e-01],\n",
       "       [7.67748006e-05, 0.00000000e+00, 1.53549601e-04, ...,\n",
       "        0.00000000e+00, 1.52781853e-01, 7.97152754e-01],\n",
       "       ...,\n",
       "       [0.00000000e+00, 0.00000000e+00, 2.95332529e-04, ...,\n",
       "        0.00000000e+00, 6.94031444e-02, 2.76578914e-01],\n",
       "       [1.17182720e-04, 0.00000000e+00, 0.00000000e+00, ...,\n",
       "        0.00000000e+00, 1.16713990e-01, 5.43376275e-01],\n",
       "       [1.08518690e-04, 0.00000000e+00, 2.17037380e-04, ...,\n",
       "        1.08518690e-04, 1.08084615e-01, 5.23711198e-01]])"
      ]
     },
     "execution_count": 12,
     "metadata": {},
     "output_type": "execute_result"
    }
   ],
   "source": [
    "train"
   ]
  },
  {
   "cell_type": "markdown",
   "id": "ddb6d0d2",
   "metadata": {
    "papermill": {
     "duration": 0.052115,
     "end_time": "2022-04-21T06:19:20.807489",
     "exception": false,
     "start_time": "2022-04-21T06:19:20.755374",
     "status": "completed"
    },
    "tags": []
   },
   "source": [
    "<p style='font-size: 17px'>Then, we can split the data into training and validation sets. This will help our model to train on the training dataset & evaluate the performance simultaneously on the validation dataset.</p>"
   ]
  },
  {
   "cell_type": "code",
   "execution_count": 13,
   "id": "df02bcf7",
   "metadata": {
    "execution": {
     "iopub.execute_input": "2022-04-21T06:19:20.916671Z",
     "iopub.status.busy": "2022-04-21T06:19:20.916129Z",
     "iopub.status.idle": "2022-04-21T06:19:20.922581Z",
     "shell.execute_reply": "2022-04-21T06:19:20.921848Z"
    },
    "papermill": {
     "duration": 0.064717,
     "end_time": "2022-04-21T06:19:20.924849",
     "exception": false,
     "start_time": "2022-04-21T06:19:20.860132",
     "status": "completed"
    },
    "tags": []
   },
   "outputs": [],
   "source": [
    "x_train, x_valid, y_train, y_valid = train_test_split(train, y, test_size=0.3, random_state=101)"
   ]
  },
  {
   "cell_type": "code",
   "execution_count": 14,
   "id": "c79ad6b5",
   "metadata": {
    "execution": {
     "iopub.execute_input": "2022-04-21T06:19:21.037683Z",
     "iopub.status.busy": "2022-04-21T06:19:21.037126Z",
     "iopub.status.idle": "2022-04-21T06:19:21.043141Z",
     "shell.execute_reply": "2022-04-21T06:19:21.042432Z"
    },
    "papermill": {
     "duration": 0.062734,
     "end_time": "2022-04-21T06:19:21.045490",
     "exception": false,
     "start_time": "2022-04-21T06:19:20.982756",
     "status": "completed"
    },
    "tags": []
   },
   "outputs": [],
   "source": [
    "ids = test['PassengerId']\n",
    "test.drop(cols_to_drop, axis=1, inplace=True)"
   ]
  },
  {
   "cell_type": "markdown",
   "id": "6cfd49fb",
   "metadata": {
    "papermill": {
     "duration": 0.052095,
     "end_time": "2022-04-21T06:19:21.151145",
     "exception": false,
     "start_time": "2022-04-21T06:19:21.099050",
     "status": "completed"
    },
    "tags": []
   },
   "source": [
    "<p style='font-size: 17px'>We have to perform the normalization step for our final test dataset also. </p>"
   ]
  },
  {
   "cell_type": "code",
   "execution_count": 15,
   "id": "1b0aec1f",
   "metadata": {
    "execution": {
     "iopub.execute_input": "2022-04-21T06:19:21.257713Z",
     "iopub.status.busy": "2022-04-21T06:19:21.257173Z",
     "iopub.status.idle": "2022-04-21T06:19:21.266075Z",
     "shell.execute_reply": "2022-04-21T06:19:21.265306Z"
    },
    "papermill": {
     "duration": 0.064973,
     "end_time": "2022-04-21T06:19:21.268541",
     "exception": false,
     "start_time": "2022-04-21T06:19:21.203568",
     "status": "completed"
    },
    "tags": []
   },
   "outputs": [],
   "source": [
    "transformer = Normalizer().fit(test) \n",
    "transformer\n",
    "test=transformer.transform(test)"
   ]
  },
  {
   "cell_type": "markdown",
   "id": "c63bacb7",
   "metadata": {
    "papermill": {
     "duration": 0.053914,
     "end_time": "2022-04-21T06:19:21.374942",
     "exception": false,
     "start_time": "2022-04-21T06:19:21.321028",
     "status": "completed"
    },
    "tags": []
   },
   "source": [
    "<a id='nn'></a>\n",
    "# Neural Network Architecture (Model)"
   ]
  },
  {
   "cell_type": "markdown",
   "id": "87348d7e",
   "metadata": {
    "papermill": {
     "duration": 0.051635,
     "end_time": "2022-04-21T06:19:21.487027",
     "exception": false,
     "start_time": "2022-04-21T06:19:21.435392",
     "status": "completed"
    },
    "tags": []
   },
   "source": [
    "<center><img src='https://cdn.analyticsvidhya.com/wp-content/uploads/2020/02/Comp-1.gif' width=600 height=600></img></center>"
   ]
  },
  {
   "cell_type": "markdown",
   "id": "3b272ae7",
   "metadata": {
    "papermill": {
     "duration": 0.051324,
     "end_time": "2022-04-21T06:19:21.590102",
     "exception": false,
     "start_time": "2022-04-21T06:19:21.538778",
     "status": "completed"
    },
    "tags": []
   },
   "source": [
    "<p style='font-size: 17px'>Now comes the major part for which this notebook is about.</p>\n",
    "\n",
    "<p style='font-size: 17px'>We'll use Keras, with Tensorflow as backend, to create the neural network model & perform the training.</p> <br/>\n",
    "\n",
    "\n",
    "<div class=\"alert alert-block alert-info\">\n",
    "<p style='font-size: 17px'>Before the model, let's define some terms:</p>\n",
    "\n",
    "<p style='font-size: 17px'><strong>Sequential</strong> : Sequential class groups a linear stack of layers to form a model on which training & inference can be done.</p>\n",
    "\n",
    "<p style='font-size: 17px'><strong>Dense</strong>: Dense is a densely-connected (look at the figure) neural network layer.</p>\n",
    "\n",
    "<p style='font-size: 17px'><strong>activation</strong>: The type of function to perform mathematical operations on the layers. We'll be using <strong>sigmoid</strong> activation function to yield the value between 0 and 1.</p>\n",
    "\n",
    "<p style='font-size: 17px'><strong>input_dims</strong>: The shape of the values that are being passed.</p>\n",
    "\n",
    "<p style='font-size: 17px'><strong>kernel_initializer</strong>: Initializers define the way to set the initial random weights of Keras layers.</p>\n",
    "\n",
    "<p style='font-size: 17px'><strong>units</strong>: It is a positive integer & is used to define the dimensionality of the output space. </p>\n",
    "\n",
    "</div>\n",
    "\n",
    "<center><figure>\n",
    "  <img src='https://stackabuse.s3.amazonaws.com/media/deep-learning-in-keras-building-a-deep-learning-model-1.png' height=600 width=600>\n",
    "  <figcaption>Basic Neural Network structure</figcaption>\n",
    "</figure></center>"
   ]
  },
  {
   "cell_type": "code",
   "execution_count": 16,
   "id": "52373eb1",
   "metadata": {
    "execution": {
     "iopub.execute_input": "2022-04-21T06:19:21.695972Z",
     "iopub.status.busy": "2022-04-21T06:19:21.695353Z",
     "iopub.status.idle": "2022-04-21T06:19:21.700702Z",
     "shell.execute_reply": "2022-04-21T06:19:21.699602Z"
    },
    "papermill": {
     "duration": 0.061852,
     "end_time": "2022-04-21T06:19:21.703656",
     "exception": false,
     "start_time": "2022-04-21T06:19:21.641804",
     "status": "completed"
    },
    "tags": []
   },
   "outputs": [
    {
     "name": "stdout",
     "output_type": "stream",
     "text": [
      "The dimension of data is: 16\n"
     ]
    }
   ],
   "source": [
    "print(f'The dimension of data is: {x_train.shape[1]}')"
   ]
  },
  {
   "cell_type": "code",
   "execution_count": 17,
   "id": "b9f61dba",
   "metadata": {
    "execution": {
     "iopub.execute_input": "2022-04-21T06:19:21.814061Z",
     "iopub.status.busy": "2022-04-21T06:19:21.813674Z",
     "iopub.status.idle": "2022-04-21T06:19:21.935924Z",
     "shell.execute_reply": "2022-04-21T06:19:21.934408Z"
    },
    "papermill": {
     "duration": 0.180158,
     "end_time": "2022-04-21T06:19:21.939030",
     "exception": false,
     "start_time": "2022-04-21T06:19:21.758872",
     "status": "completed"
    },
    "tags": []
   },
   "outputs": [
    {
     "name": "stderr",
     "output_type": "stream",
     "text": [
      "2022-04-21 06:19:21.858848: I tensorflow/core/common_runtime/process_util.cc:146] Creating new thread pool with default inter op setting: 2. Tune using inter_op_parallelism_threads for best performance.\n"
     ]
    }
   ],
   "source": [
    "model = Sequential([\n",
    "    Dense(units=32, input_dim=16, kernel_initializer = 'uniform', activation='relu'),\n",
    "    Dense(units=32, kernel_initializer = 'uniform', activation='relu'),\n",
    "    Dense(units=5, kernel_initializer = 'uniform', activation='relu'),\n",
    "    Dense(units=1, kernel_initializer = 'uniform', activation='sigmoid')\n",
    "    ])"
   ]
  },
  {
   "cell_type": "markdown",
   "id": "bf65f784",
   "metadata": {
    "papermill": {
     "duration": 0.053012,
     "end_time": "2022-04-21T06:19:22.045613",
     "exception": false,
     "start_time": "2022-04-21T06:19:21.992601",
     "status": "completed"
    },
    "tags": []
   },
   "source": [
    "<p style='font-size: 17px'>We can print out how our model looks or in short, it's summary, by running the following code:</p>"
   ]
  },
  {
   "cell_type": "code",
   "execution_count": 18,
   "id": "e903f7d3",
   "metadata": {
    "execution": {
     "iopub.execute_input": "2022-04-21T06:19:22.154314Z",
     "iopub.status.busy": "2022-04-21T06:19:22.153333Z",
     "iopub.status.idle": "2022-04-21T06:19:22.164929Z",
     "shell.execute_reply": "2022-04-21T06:19:22.163418Z"
    },
    "papermill": {
     "duration": 0.068954,
     "end_time": "2022-04-21T06:19:22.167505",
     "exception": false,
     "start_time": "2022-04-21T06:19:22.098551",
     "status": "completed"
    },
    "tags": []
   },
   "outputs": [
    {
     "name": "stdout",
     "output_type": "stream",
     "text": [
      "Model: \"sequential\"\n",
      "_________________________________________________________________\n",
      "Layer (type)                 Output Shape              Param #   \n",
      "=================================================================\n",
      "dense (Dense)                (None, 32)                544       \n",
      "_________________________________________________________________\n",
      "dense_1 (Dense)              (None, 32)                1056      \n",
      "_________________________________________________________________\n",
      "dense_2 (Dense)              (None, 5)                 165       \n",
      "_________________________________________________________________\n",
      "dense_3 (Dense)              (None, 1)                 6         \n",
      "=================================================================\n",
      "Total params: 1,771\n",
      "Trainable params: 1,771\n",
      "Non-trainable params: 0\n",
      "_________________________________________________________________\n"
     ]
    }
   ],
   "source": [
    "model.summary()"
   ]
  },
  {
   "cell_type": "markdown",
   "id": "d439a80f",
   "metadata": {
    "papermill": {
     "duration": 0.053907,
     "end_time": "2022-04-21T06:19:22.274593",
     "exception": false,
     "start_time": "2022-04-21T06:19:22.220686",
     "status": "completed"
    },
    "tags": []
   },
   "source": [
    "<a id='tuning'></a>\n",
    "# Model Training (with hyperparameter tuning)"
   ]
  },
  {
   "cell_type": "markdown",
   "id": "9e3273aa",
   "metadata": {
    "papermill": {
     "duration": 0.054861,
     "end_time": "2022-04-21T06:19:22.384755",
     "exception": false,
     "start_time": "2022-04-21T06:19:22.329894",
     "status": "completed"
    },
    "tags": []
   },
   "source": [
    "<p style='font-size: 17px'>Now, at this point, we can directly run our model & make predictions. But just as we can tune our traditional sklearn models, we can also tune the neural network hyperparameters for a better prediction score.</p>\n",
    "\n",
    "# Keras Tuner\n",
    "\n",
    "<center><img src='https://i.ytimg.com/vi/s3kH7_6xF-4/maxresdefault.jpg' height=700 width=700></img></center><br/>\n",
    "\n",
    "<p style='font-size: 17px'>In order to make the neural networks choose their best parameters themselves, we can use the library <strong>keras_tuner</strong> offered by keras itself.</p>\n",
    "\n",
    "<p class=\"alert alert-block alert-info\" style='font-size: 17px'> 📌 <strong>KerasTuner</strong> is an easy-to-use, scalable hyperparameter optimization framework that solves the pain points of hyperparameter search.</p> \n",
    "\n",
    "<p style='font-size: 17px'>For this, we define a function and use the <code>hp</code> argument to define the hyperparameters during model creation. Here, I have defined hyperparameter space for <strong>learning rate</strong>.</p>"
   ]
  },
  {
   "cell_type": "code",
   "execution_count": 19,
   "id": "96637b19",
   "metadata": {
    "execution": {
     "iopub.execute_input": "2022-04-21T06:19:22.493694Z",
     "iopub.status.busy": "2022-04-21T06:19:22.493411Z",
     "iopub.status.idle": "2022-04-21T06:19:22.500969Z",
     "shell.execute_reply": "2022-04-21T06:19:22.499751Z"
    },
    "papermill": {
     "duration": 0.064933,
     "end_time": "2022-04-21T06:19:22.503111",
     "exception": false,
     "start_time": "2022-04-21T06:19:22.438178",
     "status": "completed"
    },
    "tags": []
   },
   "outputs": [],
   "source": [
    "def build_model(hp):\n",
    "    lrate = hp.Float('lrate', 1e-4, 1e-1, sampling='log') # learning rate hyper-param space\n",
    "    \n",
    "    model = Sequential([\n",
    "    Dense(units=32, input_dim=16, kernel_initializer = 'uniform', activation='relu'),\n",
    "    Dense(units=32, kernel_initializer = 'uniform', activation='relu'),\n",
    "    Dense(units=5, kernel_initializer = 'uniform', activation='relu'),\n",
    "    Dense(units=1, kernel_initializer = 'uniform', activation='sigmoid')\n",
    "    ])\n",
    "    \n",
    "    model.compile(optimizer=Adam(learning_rate=lrate), loss='binary_crossentropy', metrics=['accuracy'])\n",
    "    return model"
   ]
  },
  {
   "cell_type": "markdown",
   "id": "291b0513",
   "metadata": {
    "papermill": {
     "duration": 0.053712,
     "end_time": "2022-04-21T06:19:22.611614",
     "exception": false,
     "start_time": "2022-04-21T06:19:22.557902",
     "status": "completed"
    },
    "tags": []
   },
   "source": [
    "<p style='font-size: 17px'>Then, we need to choose a tuner class. It can be any of these: <strong>RandomSearch</strong>, <strong>BayesianOptimization</strong> and <strong>Hyperband</strong>. </p>\n",
    "\n",
    "<p style='font-size: 17px'>We'll be going with the <strong>BayesianOptimization</strong>.</p>\n",
    "\n",
    "<p style='font-size: 17px'>Then, we declare the model function, objective function and maximum trials. Here, setting <code>overwrite=True</code> will start a new search and ignore any previous results.</p>"
   ]
  },
  {
   "cell_type": "code",
   "execution_count": 20,
   "id": "7c42e583",
   "metadata": {
    "execution": {
     "iopub.execute_input": "2022-04-21T06:19:22.721427Z",
     "iopub.status.busy": "2022-04-21T06:19:22.720877Z",
     "iopub.status.idle": "2022-04-21T06:19:22.773103Z",
     "shell.execute_reply": "2022-04-21T06:19:22.772401Z"
    },
    "papermill": {
     "duration": 0.110565,
     "end_time": "2022-04-21T06:19:22.775885",
     "exception": false,
     "start_time": "2022-04-21T06:19:22.665320",
     "status": "completed"
    },
    "tags": []
   },
   "outputs": [],
   "source": [
    "tuner = kt.BayesianOptimization(\n",
    "    build_model,\n",
    "    objective=kt.Objective('val_accuracy', 'max'),\n",
    "    max_trials=10,\n",
    "    num_initial_points=2,\n",
    "    overwrite=True\n",
    ")"
   ]
  },
  {
   "cell_type": "markdown",
   "id": "c5f77f09",
   "metadata": {
    "papermill": {
     "duration": 0.053732,
     "end_time": "2022-04-21T06:19:22.883850",
     "exception": false,
     "start_time": "2022-04-21T06:19:22.830118",
     "status": "completed"
    },
    "tags": []
   },
   "source": [
    "<p style='font-size: 17px'>And then we search through that hyperparameters space. The syntax is quite similar to the tensorflow-keras <code>predict</code> function.</p>"
   ]
  },
  {
   "cell_type": "code",
   "execution_count": 21,
   "id": "e92dd4ac",
   "metadata": {
    "execution": {
     "iopub.execute_input": "2022-04-21T06:19:22.995169Z",
     "iopub.status.busy": "2022-04-21T06:19:22.993845Z",
     "iopub.status.idle": "2022-04-21T06:20:11.114477Z",
     "shell.execute_reply": "2022-04-21T06:20:11.112697Z"
    },
    "papermill": {
     "duration": 48.18018,
     "end_time": "2022-04-21T06:20:11.117262",
     "exception": false,
     "start_time": "2022-04-21T06:19:22.937082",
     "status": "completed"
    },
    "tags": []
   },
   "outputs": [
    {
     "name": "stdout",
     "output_type": "stream",
     "text": [
      "Trial 10 Complete [00h 00m 04s]\n",
      "val_accuracy: 0.7948619723320007\n",
      "\n",
      "Best val_accuracy So Far: 0.7967791557312012\n",
      "Total elapsed time: 00h 00m 48s\n"
     ]
    }
   ],
   "source": [
    "tuner.search(\n",
    "    x_train, y_train, epochs=5, validation_data=(x_valid, y_valid)\n",
    ")"
   ]
  },
  {
   "cell_type": "markdown",
   "id": "714e2b94",
   "metadata": {
    "papermill": {
     "duration": 0.054537,
     "end_time": "2022-04-21T06:20:11.226549",
     "exception": false,
     "start_time": "2022-04-21T06:20:11.172012",
     "status": "completed"
    },
    "tags": []
   },
   "source": [
    "<p style='font-size: 17px'>Now, our tuner has searched through our own defined hyperparameter space. To get the best model, we just run the <code>get_best_model[0]</code> to get the model having the best objective function result.</p>"
   ]
  },
  {
   "cell_type": "code",
   "execution_count": 22,
   "id": "c9383b73",
   "metadata": {
    "execution": {
     "iopub.execute_input": "2022-04-21T06:20:11.339583Z",
     "iopub.status.busy": "2022-04-21T06:20:11.338882Z",
     "iopub.status.idle": "2022-04-21T06:20:11.622134Z",
     "shell.execute_reply": "2022-04-21T06:20:11.620951Z"
    },
    "papermill": {
     "duration": 0.343737,
     "end_time": "2022-04-21T06:20:11.625075",
     "exception": false,
     "start_time": "2022-04-21T06:20:11.281338",
     "status": "completed"
    },
    "tags": []
   },
   "outputs": [],
   "source": [
    "best_model = tuner.get_best_models()[0]"
   ]
  },
  {
   "cell_type": "markdown",
   "id": "083250eb",
   "metadata": {
    "papermill": {
     "duration": 0.055776,
     "end_time": "2022-04-21T06:20:11.735705",
     "exception": false,
     "start_time": "2022-04-21T06:20:11.679929",
     "status": "completed"
    },
    "tags": []
   },
   "source": [
    "<p style='font-size: 17px'>And then, we perform the <code>fit</code> on that best model and validate on our validation set for our final training part.</p>"
   ]
  },
  {
   "cell_type": "code",
   "execution_count": 23,
   "id": "3ff181ba",
   "metadata": {
    "execution": {
     "iopub.execute_input": "2022-04-21T06:20:11.850418Z",
     "iopub.status.busy": "2022-04-21T06:20:11.850121Z",
     "iopub.status.idle": "2022-04-21T06:23:19.537066Z",
     "shell.execute_reply": "2022-04-21T06:23:19.535618Z"
    },
    "papermill": {
     "duration": 188.872202,
     "end_time": "2022-04-21T06:23:20.665179",
     "exception": false,
     "start_time": "2022-04-21T06:20:11.792977",
     "status": "completed"
    },
    "tags": []
   },
   "outputs": [
    {
     "name": "stdout",
     "output_type": "stream",
     "text": [
      "Epoch 1/10\n",
      "6085/6085 [==============================] - 19s 3ms/step - loss: 0.5104 - accuracy: 0.7727 - val_loss: 0.4853 - val_accuracy: 0.7929\n",
      "Epoch 2/10\n",
      "6085/6085 [==============================] - 18s 3ms/step - loss: 0.5053 - accuracy: 0.7749 - val_loss: 0.4943 - val_accuracy: 0.7945\n",
      "Epoch 3/10\n",
      "6085/6085 [==============================] - 19s 3ms/step - loss: 0.5022 - accuracy: 0.7829 - val_loss: 0.4916 - val_accuracy: 0.7895\n",
      "Epoch 4/10\n",
      "6085/6085 [==============================] - 19s 3ms/step - loss: 0.5017 - accuracy: 0.7819 - val_loss: 0.4862 - val_accuracy: 0.7952\n",
      "Epoch 5/10\n",
      "6085/6085 [==============================] - 19s 3ms/step - loss: 0.4984 - accuracy: 0.7826 - val_loss: 0.4847 - val_accuracy: 0.7941\n",
      "Epoch 6/10\n",
      "6085/6085 [==============================] - 19s 3ms/step - loss: 0.4972 - accuracy: 0.7796 - val_loss: 0.4797 - val_accuracy: 0.7972\n",
      "Epoch 7/10\n",
      "6085/6085 [==============================] - 18s 3ms/step - loss: 0.4954 - accuracy: 0.7823 - val_loss: 0.4858 - val_accuracy: 0.7952\n",
      "Epoch 8/10\n",
      "6085/6085 [==============================] - 19s 3ms/step - loss: 0.4959 - accuracy: 0.7831 - val_loss: 0.4725 - val_accuracy: 0.7998\n",
      "Epoch 9/10\n",
      "6085/6085 [==============================] - 18s 3ms/step - loss: 0.4938 - accuracy: 0.7862 - val_loss: 0.4792 - val_accuracy: 0.7956\n",
      "Epoch 10/10\n",
      "6085/6085 [==============================] - 20s 3ms/step - loss: 0.4936 - accuracy: 0.7852 - val_loss: 0.4834 - val_accuracy: 0.7883\n"
     ]
    }
   ],
   "source": [
    "hist = best_model.fit(x_train, y_train, validation_data=(x_valid, y_valid), epochs=10, batch_size=1)"
   ]
  },
  {
   "cell_type": "markdown",
   "id": "ecc54ef6",
   "metadata": {
    "papermill": {
     "duration": 1.16514,
     "end_time": "2022-04-21T06:23:22.962498",
     "exception": false,
     "start_time": "2022-04-21T06:23:21.797358",
     "status": "completed"
    },
    "tags": []
   },
   "source": [
    "<a id='viz'></a>\n",
    "# Visualizing evaluation"
   ]
  },
  {
   "cell_type": "markdown",
   "id": "5bcdb736",
   "metadata": {
    "papermill": {
     "duration": 1.148741,
     "end_time": "2022-04-21T06:23:25.307982",
     "exception": false,
     "start_time": "2022-04-21T06:23:24.159241",
     "status": "completed"
    },
    "tags": []
   },
   "source": [
    "<p style='font-size: 17px'>Now, in order to visualize our result, we'll perform the prediction on the validation dataset to get the idea about our model performance.</p>"
   ]
  },
  {
   "cell_type": "code",
   "execution_count": 24,
   "id": "f88b715a",
   "metadata": {
    "execution": {
     "iopub.execute_input": "2022-04-21T06:23:27.609482Z",
     "iopub.status.busy": "2022-04-21T06:23:27.609168Z",
     "iopub.status.idle": "2022-04-21T06:23:31.135862Z",
     "shell.execute_reply": "2022-04-21T06:23:31.134855Z"
    },
    "papermill": {
     "duration": 4.700469,
     "end_time": "2022-04-21T06:23:31.138527",
     "exception": false,
     "start_time": "2022-04-21T06:23:26.438058",
     "status": "completed"
    },
    "tags": []
   },
   "outputs": [
    {
     "data": {
      "text/plain": [
       "array([[0.79864514],\n",
       "       [0.14885393],\n",
       "       [0.368613  ],\n",
       "       [0.6343849 ],\n",
       "       [0.5722972 ]], dtype=float32)"
      ]
     },
     "execution_count": 24,
     "metadata": {},
     "output_type": "execute_result"
    }
   ],
   "source": [
    "pred = best_model.predict(x_valid, batch_size=1, verbose=0)\n",
    "pred[:5]"
   ]
  },
  {
   "cell_type": "markdown",
   "id": "80553810",
   "metadata": {
    "papermill": {
     "duration": 1.16873,
     "end_time": "2022-04-21T06:23:33.473613",
     "exception": false,
     "start_time": "2022-04-21T06:23:32.304883",
     "status": "completed"
    },
    "tags": []
   },
   "source": [
    "<p style='font-size: 17px'>We see that our predictions are there but they are continuous values and not in the binary form that we want. That's because we have <code>sigmoid</code> as our activation function in our last layer. It yields the value between 0 & 1.</p>\n",
    "\n",
    "<p style='font-size: 17px'>So, in order to make it in binary form, we can define a point above which that value will be made 1 and below which it will be made 0.</p>\n",
    "\n",
    "<p style='font-size: 17px'>Here, we take that point as 0.5.</p>"
   ]
  },
  {
   "cell_type": "code",
   "execution_count": 25,
   "id": "3b8120a2",
   "metadata": {
    "collapsed": true,
    "execution": {
     "iopub.execute_input": "2022-04-21T06:23:35.751810Z",
     "iopub.status.busy": "2022-04-21T06:23:35.750397Z",
     "iopub.status.idle": "2022-04-21T06:23:35.763530Z",
     "shell.execute_reply": "2022-04-21T06:23:35.762679Z"
    },
    "jupyter": {
     "outputs_hidden": true
    },
    "papermill": {
     "duration": 1.154443,
     "end_time": "2022-04-21T06:23:35.765470",
     "exception": false,
     "start_time": "2022-04-21T06:23:34.611027",
     "status": "completed"
    },
    "tags": []
   },
   "outputs": [
    {
     "data": {
      "text/plain": [
       "[1, 0, 0, 1, 1]"
      ]
     },
     "execution_count": 25,
     "metadata": {},
     "output_type": "execute_result"
    }
   ],
   "source": [
    "y_pred = [1 if x > 0.5 else 0 for x in pred]\n",
    "y_pred[:5]"
   ]
  },
  {
   "cell_type": "markdown",
   "id": "5b6c27d6",
   "metadata": {
    "papermill": {
     "duration": 1.228953,
     "end_time": "2022-04-21T06:23:38.231805",
     "exception": false,
     "start_time": "2022-04-21T06:23:37.002852",
     "status": "completed"
    },
    "tags": []
   },
   "source": [
    "<a id='accuracy'></a>\n",
    "## Plotting Accuracy & Loss Plots"
   ]
  },
  {
   "cell_type": "code",
   "execution_count": 26,
   "id": "c0ee3a2a",
   "metadata": {
    "execution": {
     "iopub.execute_input": "2022-04-21T06:23:40.518059Z",
     "iopub.status.busy": "2022-04-21T06:23:40.517776Z",
     "iopub.status.idle": "2022-04-21T06:23:40.964686Z",
     "shell.execute_reply": "2022-04-21T06:23:40.963302Z"
    },
    "papermill": {
     "duration": 1.587938,
     "end_time": "2022-04-21T06:23:40.967888",
     "exception": false,
     "start_time": "2022-04-21T06:23:39.379950",
     "status": "completed"
    },
    "tags": []
   },
   "outputs": [
    {
     "data": {
      "image/png": "[encoded data removed]",
      "text/plain": [
       "<Figure size 1296x576 with 2 Axes>"
      ]
     },
     "metadata": {
      "needs_background": "light"
     },
     "output_type": "display_data"
    }
   ],
   "source": [
    "f, ax = plt.subplots(1, 2, figsize=[18, 8])\n",
    "ax[0].plot([None] + hist.history['accuracy'], 'o-')\n",
    "ax[0].plot([None] + hist.history['val_accuracy'], 'x-')\n",
    "# Plot legend and use the best location automatically: loc = 0.\n",
    "ax[0].legend(['Train acc', 'Validation acc'], loc = 0)\n",
    "ax[0].set_title('Training/Validation acc per Epoch')\n",
    "ax[0].set_xlabel('Epoch')\n",
    "ax[0].set_ylabel('acc')\n",
    "\n",
    "ax[1].plot([None] + hist.history['loss'], 'o-')\n",
    "ax[1].plot([None] + hist.history['val_loss'], 'x-')\n",
    "\n",
    "# Plot legend and use the best location automatically: loc = 0.\n",
    "ax[1].legend(['Train loss', \"Val loss\"], loc = 0)\n",
    "ax[1].set_title('Training/Validation Loss per Epoch')\n",
    "ax[1].set_xlabel('Epoch')\n",
    "ax[1].set_ylabel('Loss')\n",
    "\n",
    "plt.tight_layout()\n",
    "plt.show()"
   ]
  },
  {
   "cell_type": "markdown",
   "id": "7d5b7026",
   "metadata": {
    "papermill": {
     "duration": 1.136405,
     "end_time": "2022-04-21T06:23:43.258281",
     "exception": false,
     "start_time": "2022-04-21T06:23:42.121876",
     "status": "completed"
    },
    "tags": []
   },
   "source": [
    "<a id='confusion'></a>\n",
    "## Confusion Matrix"
   ]
  },
  {
   "cell_type": "markdown",
   "id": "da2c58fc",
   "metadata": {
    "papermill": {
     "duration": 1.163765,
     "end_time": "2022-04-21T06:23:45.590942",
     "exception": false,
     "start_time": "2022-04-21T06:23:44.427177",
     "status": "completed"
    },
    "tags": []
   },
   "source": [
    "<p style='font-size: 17px'>A confusion matrix is a table that is often used to describe the performance of a classification model on a set of test data for which the true values are known.</p>"
   ]
  },
  {
   "cell_type": "code",
   "execution_count": 27,
   "id": "9421aec3",
   "metadata": {
    "execution": {
     "iopub.execute_input": "2022-04-21T06:23:47.888038Z",
     "iopub.status.busy": "2022-04-21T06:23:47.887729Z",
     "iopub.status.idle": "2022-04-21T06:23:47.896623Z",
     "shell.execute_reply": "2022-04-21T06:23:47.895626Z"
    },
    "papermill": {
     "duration": 1.168635,
     "end_time": "2022-04-21T06:23:47.898904",
     "exception": false,
     "start_time": "2022-04-21T06:23:46.730269",
     "status": "completed"
    },
    "tags": []
   },
   "outputs": [],
   "source": [
    "cm = confusion_matrix(y_true=y_valid, y_pred=y_pred)"
   ]
  },
  {
   "cell_type": "markdown",
   "id": "2be3ea9f",
   "metadata": {
    "papermill": {
     "duration": 1.134758,
     "end_time": "2022-04-21T06:23:50.178724",
     "exception": false,
     "start_time": "2022-04-21T06:23:49.043966",
     "status": "completed"
    },
    "tags": []
   },
   "source": [
    "<p style='font-size: 17px'>Now, in order to plot confusion matrix, sklearn now provides a very efficient way. Rather than just going over lines of matplotlib code, we can just import <strong>ConfusionMatrixDisplay</strong> from the <strong>metrics</strong> module to directly plot it.</p>\n",
    "\n",
    "<p class=\"alert alert-block alert-info\" style='font-size: 17px'>\n",
    "    📌 <strong>ConfusionMatrixDisplay</strong> takes two arguments:\n",
    "    <ul class=\"alert alert-block alert-info\">\n",
    "        <li><strong>The actual result</strong></li>\n",
    "        <li><strong>The prediction</strong></li></ul>\n",
    "</p> "
   ]
  },
  {
   "cell_type": "code",
   "execution_count": 28,
   "id": "54c8d4f3",
   "metadata": {
    "execution": {
     "iopub.execute_input": "2022-04-21T06:23:52.523772Z",
     "iopub.status.busy": "2022-04-21T06:23:52.523443Z",
     "iopub.status.idle": "2022-04-21T06:23:52.732891Z",
     "shell.execute_reply": "2022-04-21T06:23:52.731704Z"
    },
    "papermill": {
     "duration": 1.357525,
     "end_time": "2022-04-21T06:23:52.735615",
     "exception": false,
     "start_time": "2022-04-21T06:23:51.378090",
     "status": "completed"
    },
    "tags": []
   },
   "outputs": [
    {
     "data": {
      "text/plain": [
       "<Figure size 720x576 with 0 Axes>"
      ]
     },
     "metadata": {},
     "output_type": "display_data"
    },
    {
     "data": {
      "image/png": "[encoded data removed]",
      "text/plain": [
       "<Figure size 432x288 with 2 Axes>"
      ]
     },
     "metadata": {
      "needs_background": "light"
     },
     "output_type": "display_data"
    }
   ],
   "source": [
    "plt.figure(figsize=[10, 8])\n",
    "ConfusionMatrixDisplay.from_predictions(y_valid, y_pred)\n",
    "plt.show()"
   ]
  },
  {
   "cell_type": "markdown",
   "id": "2a0ca8f8",
   "metadata": {
    "papermill": {
     "duration": 1.160456,
     "end_time": "2022-04-21T06:23:55.029075",
     "exception": false,
     "start_time": "2022-04-21T06:23:53.868619",
     "status": "completed"
    },
    "tags": []
   },
   "source": [
    "<a id='final'></a>\n",
    "# Performing final predictions"
   ]
  },
  {
   "cell_type": "markdown",
   "id": "6ba5d630",
   "metadata": {
    "papermill": {
     "duration": 1.142865,
     "end_time": "2022-04-21T06:23:57.357291",
     "exception": false,
     "start_time": "2022-04-21T06:23:56.214426",
     "status": "completed"
    },
    "tags": []
   },
   "source": [
    "<p style='font-size: 17px'>Hence, we can perform the same on the test dataset to get it ready for the submission.</p>"
   ]
  },
  {
   "cell_type": "code",
   "execution_count": 29,
   "id": "ffa24bd1",
   "metadata": {
    "execution": {
     "iopub.execute_input": "2022-04-21T06:23:59.669858Z",
     "iopub.status.busy": "2022-04-21T06:23:59.669443Z",
     "iopub.status.idle": "2022-04-21T06:23:59.988669Z",
     "shell.execute_reply": "2022-04-21T06:23:59.987806Z"
    },
    "papermill": {
     "duration": 1.456565,
     "end_time": "2022-04-21T06:23:59.990811",
     "exception": false,
     "start_time": "2022-04-21T06:23:58.534246",
     "status": "completed"
    },
    "tags": []
   },
   "outputs": [
    {
     "data": {
      "text/plain": [
       "array([[0.7623424 ],\n",
       "       [0.024948  ],\n",
       "       [0.77324045],\n",
       "       [0.88961947],\n",
       "       [0.6752534 ]], dtype=float32)"
      ]
     },
     "execution_count": 29,
     "metadata": {},
     "output_type": "execute_result"
    }
   ],
   "source": [
    "preds = best_model.predict(test)\n",
    "preds[:5]"
   ]
  },
  {
   "cell_type": "code",
   "execution_count": 30,
   "id": "74b23733",
   "metadata": {
    "execution": {
     "iopub.execute_input": "2022-04-21T06:24:02.292464Z",
     "iopub.status.busy": "2022-04-21T06:24:02.292156Z",
     "iopub.status.idle": "2022-04-21T06:24:02.325464Z",
     "shell.execute_reply": "2022-04-21T06:24:02.324795Z"
    },
    "papermill": {
     "duration": 1.193818,
     "end_time": "2022-04-21T06:24:02.327318",
     "exception": false,
     "start_time": "2022-04-21T06:24:01.133500",
     "status": "completed"
    },
    "tags": []
   },
   "outputs": [
    {
     "data": {
      "text/plain": [
       "[1,\n",
       " 0,\n",
       " 1,\n",
       " 1,\n",
       " 1,\n",
       " 1,\n",
       " 1,\n",
       " 1,\n",
       " 1,\n",
       " 1,\n",
       " 0,\n",
       " 0,\n",
       " 1,\n",
       " 1,\n",
       " 0,\n",
       " 0,\n",
       " 0,\n",
       " 1,\n",
       " 1,\n",
       " 0,\n",
       " 1,\n",
       " 0,\n",
       " 1,\n",
       " 1,\n",
       " 1,\n",
       " 0,\n",
       " 1,\n",
       " 1,\n",
       " 1,\n",
       " 1,\n",
       " 1,\n",
       " 0,\n",
       " 1,\n",
       " 1,\n",
       " 0,\n",
       " 0,\n",
       " 1,\n",
       " 1,\n",
       " 0,\n",
       " 0,\n",
       " 1,\n",
       " 1,\n",
       " 1,\n",
       " 1,\n",
       " 0,\n",
       " 1,\n",
       " 0,\n",
       " 0,\n",
       " 1,\n",
       " 0,\n",
       " 1,\n",
       " 1,\n",
       " 0,\n",
       " 1,\n",
       " 1,\n",
       " 1,\n",
       " 0,\n",
       " 1,\n",
       " 1,\n",
       " 0,\n",
       " 1,\n",
       " 1,\n",
       " 0,\n",
       " 1,\n",
       " 1,\n",
       " 0,\n",
       " 1,\n",
       " 0,\n",
       " 1,\n",
       " 0,\n",
       " 0,\n",
       " 1,\n",
       " 0,\n",
       " 0,\n",
       " 1,\n",
       " 1,\n",
       " 1,\n",
       " 1,\n",
       " 1,\n",
       " 1,\n",
       " 1,\n",
       " 1,\n",
       " 0,\n",
       " 0,\n",
       " 1,\n",
       " 1,\n",
       " 1,\n",
       " 0,\n",
       " 1,\n",
       " 1,\n",
       " 0,\n",
       " 0,\n",
       " 1,\n",
       " 0,\n",
       " 0,\n",
       " 0,\n",
       " 1,\n",
       " 0,\n",
       " 1,\n",
       " 1,\n",
       " 1,\n",
       " 1,\n",
       " 1,\n",
       " 0,\n",
       " 1,\n",
       " 0,\n",
       " 1,\n",
       " 1,\n",
       " 0,\n",
       " 1,\n",
       " 1,\n",
       " 0,\n",
       " 1,\n",
       " 1,\n",
       " 0,\n",
       " 1,\n",
       " 1,\n",
       " 0,\n",
       " 0,\n",
       " 0,\n",
       " 0,\n",
       " 0,\n",
       " 0,\n",
       " 0,\n",
       " 1,\n",
       " 1,\n",
       " 0,\n",
       " 0,\n",
       " 0,\n",
       " 0,\n",
       " 1,\n",
       " 0,\n",
       " 1,\n",
       " 1,\n",
       " 0,\n",
       " 1,\n",
       " 0,\n",
       " 0,\n",
       " 0,\n",
       " 0,\n",
       " 0,\n",
       " 0,\n",
       " 1,\n",
       " 0,\n",
       " 1,\n",
       " 0,\n",
       " 1,\n",
       " 1,\n",
       " 1,\n",
       " 1,\n",
       " 1,\n",
       " 1,\n",
       " 1,\n",
       " 0,\n",
       " 0,\n",
       " 1,\n",
       " 1,\n",
       " 1,\n",
       " 0,\n",
       " 0,\n",
       " 0,\n",
       " 0,\n",
       " 1,\n",
       " 1,\n",
       " 0,\n",
       " 0,\n",
       " 1,\n",
       " 0,\n",
       " 1,\n",
       " 0,\n",
       " 0,\n",
       " 1,\n",
       " 0,\n",
       " 1,\n",
       " 1,\n",
       " 1,\n",
       " 0,\n",
       " 0,\n",
       " 1,\n",
       " 1,\n",
       " 0,\n",
       " 1,\n",
       " 0,\n",
       " 0,\n",
       " 0,\n",
       " 0,\n",
       " 1,\n",
       " 0,\n",
       " 1,\n",
       " 1,\n",
       " 1,\n",
       " 1,\n",
       " 0,\n",
       " 0,\n",
       " 0,\n",
       " 0,\n",
       " 0,\n",
       " 1,\n",
       " 1,\n",
       " 0,\n",
       " 1,\n",
       " 0,\n",
       " 0,\n",
       " 0,\n",
       " 0,\n",
       " 1,\n",
       " 0,\n",
       " 1,\n",
       " 0,\n",
       " 0,\n",
       " 1,\n",
       " 0,\n",
       " 1,\n",
       " 1,\n",
       " 0,\n",
       " 0,\n",
       " 0,\n",
       " 1,\n",
       " 1,\n",
       " 1,\n",
       " 1,\n",
       " 1,\n",
       " 1,\n",
       " 1,\n",
       " 1,\n",
       " 1,\n",
       " 0,\n",
       " 1,\n",
       " 1,\n",
       " 0,\n",
       " 1,\n",
       " 1,\n",
       " 1,\n",
       " 1,\n",
       " 0,\n",
       " 1,\n",
       " 0,\n",
       " 1,\n",
       " 1,\n",
       " 0,\n",
       " 0,\n",
       " 1,\n",
       " 0,\n",
       " 1,\n",
       " 1,\n",
       " 1,\n",
       " 0,\n",
       " 0,\n",
       " 1,\n",
       " 0,\n",
       " 1,\n",
       " 0,\n",
       " 0,\n",
       " 0,\n",
       " 1,\n",
       " 1,\n",
       " 1,\n",
       " 0,\n",
       " 1,\n",
       " 1,\n",
       " 1,\n",
       " 1,\n",
       " 1,\n",
       " 0,\n",
       " 1,\n",
       " 1,\n",
       " 1,\n",
       " 0,\n",
       " 1,\n",
       " 1,\n",
       " 1,\n",
       " 1,\n",
       " 0,\n",
       " 1,\n",
       " 1,\n",
       " 1,\n",
       " 0,\n",
       " 0,\n",
       " 0,\n",
       " 1,\n",
       " 1,\n",
       " 0,\n",
       " 0,\n",
       " 1,\n",
       " 1,\n",
       " 1,\n",
       " 1,\n",
       " 1,\n",
       " 1,\n",
       " 1,\n",
       " 1,\n",
       " 0,\n",
       " 1,\n",
       " 1,\n",
       " 1,\n",
       " 1,\n",
       " 0,\n",
       " 0,\n",
       " 1,\n",
       " 1,\n",
       " 1,\n",
       " 1,\n",
       " 1,\n",
       " 0,\n",
       " 1,\n",
       " 1,\n",
       " 1,\n",
       " 0,\n",
       " 1,\n",
       " 0,\n",
       " 0,\n",
       " 0,\n",
       " 1,\n",
       " 1,\n",
       " 0,\n",
       " 1,\n",
       " 1,\n",
       " 1,\n",
       " 1,\n",
       " 0,\n",
       " 0,\n",
       " 1,\n",
       " 1,\n",
       " 1,\n",
       " 0,\n",
       " 0,\n",
       " 1,\n",
       " 0,\n",
       " 1,\n",
       " 1,\n",
       " 0,\n",
       " 0,\n",
       " 1,\n",
       " 1,\n",
       " 1,\n",
       " 0,\n",
       " 1,\n",
       " 0,\n",
       " 0,\n",
       " 1,\n",
       " 1,\n",
       " 0,\n",
       " 0,\n",
       " 0,\n",
       " 1,\n",
       " 1,\n",
       " 1,\n",
       " 1,\n",
       " 1,\n",
       " 0,\n",
       " 0,\n",
       " 1,\n",
       " 0,\n",
       " 1,\n",
       " 1,\n",
       " 1,\n",
       " 1,\n",
       " 0,\n",
       " 1,\n",
       " 0,\n",
       " 1,\n",
       " 0,\n",
       " 1,\n",
       " 0,\n",
       " 1,\n",
       " 0,\n",
       " 1,\n",
       " 0,\n",
       " 0,\n",
       " 1,\n",
       " 1,\n",
       " 1,\n",
       " 1,\n",
       " 0,\n",
       " 1,\n",
       " 1,\n",
       " 1,\n",
       " 0,\n",
       " 0,\n",
       " 0,\n",
       " 1,\n",
       " 0,\n",
       " 1,\n",
       " 1,\n",
       " 1,\n",
       " 0,\n",
       " 0,\n",
       " 1,\n",
       " 0,\n",
       " 1,\n",
       " 0,\n",
       " 1,\n",
       " 1,\n",
       " 0,\n",
       " 1,\n",
       " 1,\n",
       " 0,\n",
       " 1,\n",
       " 0,\n",
       " 0,\n",
       " 1,\n",
       " 1,\n",
       " 1,\n",
       " 0,\n",
       " 1,\n",
       " 1,\n",
       " 1,\n",
       " 0,\n",
       " 1,\n",
       " 0,\n",
       " 0,\n",
       " 1,\n",
       " 1,\n",
       " 0,\n",
       " 1,\n",
       " 1,\n",
       " 1,\n",
       " 0,\n",
       " 1,\n",
       " 0,\n",
       " 1,\n",
       " 0,\n",
       " 1,\n",
       " 0,\n",
       " 1,\n",
       " 1,\n",
       " 0,\n",
       " 0,\n",
       " 0,\n",
       " 1,\n",
       " 1,\n",
       " 1,\n",
       " 1,\n",
       " 1,\n",
       " 1,\n",
       " 0,\n",
       " 0,\n",
       " 1,\n",
       " 1,\n",
       " 1,\n",
       " 1,\n",
       " 0,\n",
       " 1,\n",
       " 1,\n",
       " 0,\n",
       " 0,\n",
       " 1,\n",
       " 0,\n",
       " 0,\n",
       " 0,\n",
       " 0,\n",
       " 1,\n",
       " 1,\n",
       " 1,\n",
       " 0,\n",
       " 0,\n",
       " 0,\n",
       " 0,\n",
       " 1,\n",
       " 1,\n",
       " 0,\n",
       " 0,\n",
       " 1,\n",
       " 1,\n",
       " 0,\n",
       " 0,\n",
       " 0,\n",
       " 1,\n",
       " 0,\n",
       " 0,\n",
       " 1,\n",
       " 0,\n",
       " 1,\n",
       " 1,\n",
       " 1,\n",
       " 1,\n",
       " 0,\n",
       " 0,\n",
       " 0,\n",
       " 1,\n",
       " 0,\n",
       " 0,\n",
       " 1,\n",
       " 1,\n",
       " 0,\n",
       " 0,\n",
       " 1,\n",
       " 1,\n",
       " 1,\n",
       " 1,\n",
       " 1,\n",
       " 1,\n",
       " 1,\n",
       " 1,\n",
       " 1,\n",
       " 0,\n",
       " 1,\n",
       " 1,\n",
       " 1,\n",
       " 0,\n",
       " 1,\n",
       " 0,\n",
       " 0,\n",
       " 1,\n",
       " 1,\n",
       " 1,\n",
       " 0,\n",
       " 1,\n",
       " 1,\n",
       " 1,\n",
       " 1,\n",
       " 1,\n",
       " 0,\n",
       " 1,\n",
       " 0,\n",
       " 1,\n",
       " 0,\n",
       " 1,\n",
       " 0,\n",
       " 1,\n",
       " 0,\n",
       " 0,\n",
       " 1,\n",
       " 1,\n",
       " 0,\n",
       " 0,\n",
       " 1,\n",
       " 1,\n",
       " 0,\n",
       " 0,\n",
       " 0,\n",
       " 1,\n",
       " 1,\n",
       " 1,\n",
       " 1,\n",
       " 1,\n",
       " 0,\n",
       " 0,\n",
       " 1,\n",
       " 1,\n",
       " 1,\n",
       " 1,\n",
       " 1,\n",
       " 0,\n",
       " 1,\n",
       " 0,\n",
       " 1,\n",
       " 0,\n",
       " 0,\n",
       " 1,\n",
       " 1,\n",
       " 1,\n",
       " 1,\n",
       " 1,\n",
       " 0,\n",
       " 1,\n",
       " 1,\n",
       " 0,\n",
       " 1,\n",
       " 0,\n",
       " 1,\n",
       " 0,\n",
       " 1,\n",
       " 1,\n",
       " 1,\n",
       " 0,\n",
       " 0,\n",
       " 1,\n",
       " 0,\n",
       " 1,\n",
       " 0,\n",
       " 1,\n",
       " 1,\n",
       " 0,\n",
       " 0,\n",
       " 0,\n",
       " 0,\n",
       " 0,\n",
       " 0,\n",
       " 0,\n",
       " 1,\n",
       " 0,\n",
       " 1,\n",
       " 0,\n",
       " 0,\n",
       " 0,\n",
       " 1,\n",
       " 1,\n",
       " 0,\n",
       " 0,\n",
       " 1,\n",
       " 1,\n",
       " 0,\n",
       " 1,\n",
       " 1,\n",
       " 1,\n",
       " 1,\n",
       " 1,\n",
       " 0,\n",
       " 1,\n",
       " 0,\n",
       " 1,\n",
       " 1,\n",
       " 1,\n",
       " 0,\n",
       " 1,\n",
       " 0,\n",
       " 0,\n",
       " 1,\n",
       " 1,\n",
       " 1,\n",
       " 1,\n",
       " 1,\n",
       " 0,\n",
       " 1,\n",
       " 0,\n",
       " 1,\n",
       " 1,\n",
       " 0,\n",
       " 0,\n",
       " 1,\n",
       " 0,\n",
       " 0,\n",
       " 0,\n",
       " 1,\n",
       " 1,\n",
       " 1,\n",
       " 0,\n",
       " 1,\n",
       " 0,\n",
       " 1,\n",
       " 1,\n",
       " 0,\n",
       " 1,\n",
       " 1,\n",
       " 0,\n",
       " 0,\n",
       " 1,\n",
       " 1,\n",
       " 1,\n",
       " 1,\n",
       " 1,\n",
       " 0,\n",
       " 0,\n",
       " 1,\n",
       " 0,\n",
       " 0,\n",
       " 1,\n",
       " 1,\n",
       " 1,\n",
       " 0,\n",
       " 0,\n",
       " 1,\n",
       " 0,\n",
       " 1,\n",
       " 0,\n",
       " 0,\n",
       " 0,\n",
       " 1,\n",
       " 1,\n",
       " 0,\n",
       " 1,\n",
       " 1,\n",
       " 1,\n",
       " 1,\n",
       " 1,\n",
       " 1,\n",
       " 1,\n",
       " 0,\n",
       " 0,\n",
       " 1,\n",
       " 0,\n",
       " 0,\n",
       " 0,\n",
       " 1,\n",
       " 1,\n",
       " 1,\n",
       " 1,\n",
       " 1,\n",
       " 1,\n",
       " 1,\n",
       " 1,\n",
       " 1,\n",
       " 0,\n",
       " 1,\n",
       " 1,\n",
       " 1,\n",
       " 0,\n",
       " 1,\n",
       " 1,\n",
       " 1,\n",
       " 1,\n",
       " 0,\n",
       " 0,\n",
       " 1,\n",
       " 0,\n",
       " 0,\n",
       " 1,\n",
       " 0,\n",
       " 0,\n",
       " 0,\n",
       " 1,\n",
       " 0,\n",
       " 0,\n",
       " 0,\n",
       " 0,\n",
       " 1,\n",
       " 1,\n",
       " 0,\n",
       " 0,\n",
       " 1,\n",
       " 1,\n",
       " 1,\n",
       " 1,\n",
       " 1,\n",
       " 1,\n",
       " 1,\n",
       " 0,\n",
       " 0,\n",
       " 1,\n",
       " 0,\n",
       " 0,\n",
       " 0,\n",
       " 1,\n",
       " 1,\n",
       " 0,\n",
       " 1,\n",
       " 1,\n",
       " 1,\n",
       " 0,\n",
       " 0,\n",
       " 0,\n",
       " 0,\n",
       " 1,\n",
       " 1,\n",
       " 1,\n",
       " 1,\n",
       " 0,\n",
       " 1,\n",
       " 1,\n",
       " 1,\n",
       " 0,\n",
       " 0,\n",
       " 0,\n",
       " 0,\n",
       " 1,\n",
       " 1,\n",
       " 1,\n",
       " 0,\n",
       " 0,\n",
       " 0,\n",
       " 0,\n",
       " 0,\n",
       " 1,\n",
       " 0,\n",
       " 0,\n",
       " 0,\n",
       " 1,\n",
       " 0,\n",
       " 0,\n",
       " 1,\n",
       " 1,\n",
       " 1,\n",
       " 0,\n",
       " 1,\n",
       " 1,\n",
       " 1,\n",
       " 1,\n",
       " 1,\n",
       " 1,\n",
       " 1,\n",
       " 1,\n",
       " 0,\n",
       " 0,\n",
       " 1,\n",
       " 1,\n",
       " 1,\n",
       " 0,\n",
       " 0,\n",
       " 0,\n",
       " 1,\n",
       " 0,\n",
       " 0,\n",
       " 0,\n",
       " 1,\n",
       " 1,\n",
       " 1,\n",
       " 0,\n",
       " 0,\n",
       " 1,\n",
       " 0,\n",
       " 1,\n",
       " 1,\n",
       " 0,\n",
       " 0,\n",
       " 0,\n",
       " 1,\n",
       " 1,\n",
       " 1,\n",
       " 1,\n",
       " 1,\n",
       " 1,\n",
       " 1,\n",
       " 0,\n",
       " 1,\n",
       " 0,\n",
       " 0,\n",
       " 1,\n",
       " 1,\n",
       " 0,\n",
       " 1,\n",
       " 1,\n",
       " 1,\n",
       " 0,\n",
       " 1,\n",
       " 0,\n",
       " 1,\n",
       " 0,\n",
       " 1,\n",
       " 0,\n",
       " 0,\n",
       " 0,\n",
       " 1,\n",
       " 1,\n",
       " 1,\n",
       " 1,\n",
       " 1,\n",
       " 1,\n",
       " 1,\n",
       " 1,\n",
       " 0,\n",
       " 0,\n",
       " 0,\n",
       " 0,\n",
       " 0,\n",
       " 0,\n",
       " 1,\n",
       " 0,\n",
       " 1,\n",
       " 0,\n",
       " 0,\n",
       " 1,\n",
       " 1,\n",
       " 1,\n",
       " 0,\n",
       " 0,\n",
       " 1,\n",
       " 1,\n",
       " 1,\n",
       " 1,\n",
       " 0,\n",
       " 1,\n",
       " 1,\n",
       " 0,\n",
       " 0,\n",
       " 1,\n",
       " 1,\n",
       " 0,\n",
       " 1,\n",
       " 0,\n",
       " 1,\n",
       " 1,\n",
       " 1,\n",
       " 1,\n",
       " 1,\n",
       " 0,\n",
       " 1,\n",
       " 0,\n",
       " 0,\n",
       " 1,\n",
       " 0,\n",
       " 1,\n",
       " 0,\n",
       " 1,\n",
       " 1,\n",
       " 1,\n",
       " 0,\n",
       " 1,\n",
       " 0,\n",
       " 1,\n",
       " 0,\n",
       " 1,\n",
       " 0,\n",
       " 1,\n",
       " 1,\n",
       " 1,\n",
       " 1,\n",
       " 0,\n",
       " 1,\n",
       " 0,\n",
       " 0,\n",
       " 0,\n",
       " 1,\n",
       " 1,\n",
       " 1,\n",
       " 1,\n",
       " 1,\n",
       " 1,\n",
       " 0,\n",
       " 0,\n",
       " 1,\n",
       " 1,\n",
       " 0,\n",
       " 0,\n",
       " 0,\n",
       " 0,\n",
       " 1,\n",
       " 1,\n",
       " 1,\n",
       " 1,\n",
       " 0,\n",
       " 0,\n",
       " 1,\n",
       " 0,\n",
       " 1,\n",
       " 1,\n",
       " 0,\n",
       " 1,\n",
       " 0,\n",
       " 0,\n",
       " 0,\n",
       " 1,\n",
       " 1,\n",
       " 1,\n",
       " 1,\n",
       " 0,\n",
       " 1,\n",
       " 1,\n",
       " 0,\n",
       " 0,\n",
       " 1,\n",
       " 0,\n",
       " 0,\n",
       " 0,\n",
       " 0,\n",
       " 0,\n",
       " 0,\n",
       " 0,\n",
       " 0,\n",
       " 1,\n",
       " 0,\n",
       " 1,\n",
       " 0,\n",
       " 0,\n",
       " 0,\n",
       " 0,\n",
       " 1,\n",
       " 0,\n",
       " 0,\n",
       " 1,\n",
       " 0,\n",
       " 1,\n",
       " 1,\n",
       " 1,\n",
       " 1,\n",
       " 1,\n",
       " 0,\n",
       " 1,\n",
       " 1,\n",
       " 0,\n",
       " 1,\n",
       " 0,\n",
       " 1,\n",
       " 1,\n",
       " 0,\n",
       " 1,\n",
       " 0,\n",
       " 1,\n",
       " 1,\n",
       " 1,\n",
       " 1,\n",
       " 1,\n",
       " 1,\n",
       " 0,\n",
       " 1,\n",
       " 0,\n",
       " 0,\n",
       " 0,\n",
       " 1,\n",
       " 1,\n",
       " 1,\n",
       " 1,\n",
       " 1,\n",
       " 0,\n",
       " 1,\n",
       " 1,\n",
       " 1,\n",
       " 1,\n",
       " 1,\n",
       " 1,\n",
       " 0,\n",
       " 1,\n",
       " 1,\n",
       " 0,\n",
       " 1,\n",
       " 1,\n",
       " 0,\n",
       " 1,\n",
       " 1,\n",
       " 1,\n",
       " ...]"
      ]
     },
     "execution_count": 30,
     "metadata": {},
     "output_type": "execute_result"
    }
   ],
   "source": [
    "survived = [1 if x > 0.5 else 0 for x in preds]\n",
    "survived"
   ]
  },
  {
   "cell_type": "code",
   "execution_count": 31,
   "id": "6b0e200e",
   "metadata": {
    "execution": {
     "iopub.execute_input": "2022-04-21T06:24:04.677573Z",
     "iopub.status.busy": "2022-04-21T06:24:04.676772Z",
     "iopub.status.idle": "2022-04-21T06:24:04.685596Z",
     "shell.execute_reply": "2022-04-21T06:24:04.684683Z"
    },
    "papermill": {
     "duration": 1.146348,
     "end_time": "2022-04-21T06:24:04.687688",
     "exception": false,
     "start_time": "2022-04-21T06:24:03.541340",
     "status": "completed"
    },
    "tags": []
   },
   "outputs": [
    {
     "data": {
      "text/plain": [
       "[True, False, True, True, True]"
      ]
     },
     "execution_count": 31,
     "metadata": {},
     "output_type": "execute_result"
    }
   ],
   "source": [
    "for i in range(len(survived)):\n",
    "    survived[i] = bool(survived[i])\n",
    "\n",
    "survived[:5]"
   ]
  },
  {
   "cell_type": "code",
   "execution_count": 32,
   "id": "eba1dbe2",
   "metadata": {
    "execution": {
     "iopub.execute_input": "2022-04-21T06:24:06.992452Z",
     "iopub.status.busy": "2022-04-21T06:24:06.992111Z",
     "iopub.status.idle": "2022-04-21T06:24:07.010157Z",
     "shell.execute_reply": "2022-04-21T06:24:07.009435Z"
    },
    "papermill": {
     "duration": 1.185109,
     "end_time": "2022-04-21T06:24:07.012477",
     "exception": false,
     "start_time": "2022-04-21T06:24:05.827368",
     "status": "completed"
    },
    "tags": []
   },
   "outputs": [],
   "source": [
    "subs = pd.DataFrame({'PassengerId': ids, 'Transported': survived})\n",
    "subs.to_csv('subs.csv', index=False)"
   ]
  },
  {
   "cell_type": "markdown",
   "id": "42e3bb0f",
   "metadata": {
    "papermill": {
     "duration": 1.175779,
     "end_time": "2022-04-21T06:24:09.382611",
     "exception": false,
     "start_time": "2022-04-21T06:24:08.206832",
     "status": "completed"
    },
    "tags": []
   },
   "source": [
    "<h3>If you are here and find this notebook useful, an upvote would really mean a lot to me & would keep me motivated.</h3>\n",
    "<h3>Thank You!</h3>\n",
    "\n",
    "<h4>Have a wonderful day! 😄</h4>"
   ]
  }
 ],
 "metadata": {
  "kernelspec": {
   "display_name": "Python 3",
   "language": "python",
   "name": "python3"
  },
  "language_info": {
   "codemirror_mode": {
    "name": "ipython",
    "version": 3
   },
   "file_extension": ".py",
   "mimetype": "text/x-python",
   "name": "python",
   "nbconvert_exporter": "python",
   "pygments_lexer": "ipython3",
   "version": "3.7.12"
  },
  "papermill": {
   "default_parameters": {},
   "duration": 314.526472,
   "end_time": "2022-04-21T06:24:13.476767",
   "environment_variables": {},
   "exception": null,
   "input_path": "__notebook__.ipynb",
   "output_path": "__notebook__.ipynb",
   "parameters": {},
   "start_time": "2022-04-21T06:18:58.950295",
   "version": "2.3.4"
  }
 },
 "nbformat": 4,
 "nbformat_minor": 5
}
